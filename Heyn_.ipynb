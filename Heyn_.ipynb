{
  "cells": [
    {
      "cell_type": "markdown",
      "metadata": {
        "id": "view-in-github",
        "colab_type": "text"
      },
      "source": [
        "<a href=\"https://colab.research.google.com/github/sedmonster/EmpathoBot/blob/main/Heyn_.ipynb\" target=\"_parent\"><img src=\"https://colab.research.google.com/assets/colab-badge.svg\" alt=\"Open In Colab\"/></a>"
      ]
    },
    {
      "cell_type": "code",
      "execution_count": 29,
      "metadata": {
        "colab": {
          "base_uri": "https://localhost:8080/"
        },
        "id": "UZyb1oIeiC5I",
        "outputId": "4eea7df1-3ec7-4e6d-b231-65e4fc31765b"
      },
      "outputs": [
        {
          "output_type": "stream",
          "name": "stdout",
          "text": [
            "Requirement already satisfied: opencv-python in /usr/local/lib/python3.10/dist-packages (4.8.0.76)\n",
            "Requirement already satisfied: numpy>=1.21.2 in /usr/local/lib/python3.10/dist-packages (from opencv-python) (1.23.5)\n"
          ]
        }
      ],
      "source": [
        "!pip install opencv-python\n"
      ]
    },
    {
      "cell_type": "code",
      "execution_count": 30,
      "metadata": {
        "id": "SBlnN1CLiSew"
      },
      "outputs": [],
      "source": [
        "import numpy as np\n",
        "import cv2\n",
        "from google.colab import files\n",
        "from PIL import Image\n",
        "import cv2"
      ]
    },
    {
      "cell_type": "code",
      "execution_count": 50,
      "metadata": {
        "colab": {
          "base_uri": "https://localhost:8080/"
        },
        "id": "j7bu-nexie8u",
        "outputId": "60e38715-17a7-4eac-93aa-8df40b306cc5"
      },
      "outputs": [
        {
          "output_type": "stream",
          "name": "stdout",
          "text": [
            "Average Grain Size: 23.134287736105115 square units\n"
          ]
        }
      ],
      "source": [
        "def heyne_intercept_method(image_path, line_length):\n",
        "\n",
        "    image = cv2.imread(image_path, cv2.IMREAD_GRAYSCALE)\n",
        "\n",
        "    _, binary_image = cv2.threshold(image, 0, 255, cv2.THRESH_BINARY + cv2.THRESH_OTSU)\n",
        "\n",
        "    contours, _ = cv2.findContours(binary_image, cv2.RETR_EXTERNAL, cv2.CHAIN_APPROX_SIMPLE)\n",
        "\n",
        "    total_intercepts = 0\n",
        "\n",
        "    for contour in contours:\n",
        "\n",
        "        epsilon = 0.02 * cv2.arcLength(contour, True)\n",
        "        approx = cv2.approxPolyDP(contour, epsilon, True)\n",
        "\n",
        "        for i in range(len(approx)):\n",
        "            pt1 = tuple(approx[i][0])\n",
        "            pt2 = tuple(approx[(i + 1) % len(approx)][0])\n",
        "\n",
        "            line_mask = np.zeros_like(binary_image)\n",
        "            cv2.line(line_mask, pt1, pt2, 255, 1)\n",
        "\n",
        "            intercept_count = np.sum(np.logical_and(line_mask, binary_image)) / 255\n",
        "            total_intercepts += intercept_count\n",
        "\n",
        "        grain_size = (line_length * line_length) / (2 * total_intercepts)\n",
        "\n",
        "    return grain_size\n",
        "\n",
        "image_path = '/content/100-3.jpg'\n",
        "line_length = 100\n",
        "average_grain_size = heyne_intercept_method(image_path, line_length)\n",
        "print(f\"Average Grain Size: {average_grain_size} square units\")"
      ]
    }
  ],
  "metadata": {
    "colab": {
      "provenance": [],
      "authorship_tag": "ABX9TyOmwt1cUPqQw9NcJtKFTH8u",
      "include_colab_link": true
    },
    "kernelspec": {
      "display_name": "Python 3",
      "name": "python3"
    },
    "language_info": {
      "name": "python"
    }
  },
  "nbformat": 4,
  "nbformat_minor": 0
}