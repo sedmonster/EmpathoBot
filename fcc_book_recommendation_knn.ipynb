{
  "cells": [
    {
      "cell_type": "code",
      "source": [
        "import numpy as np\n",
        "import pandas as pd\n",
        "from scipy.sparse import csr_matrix\n",
        "from sklearn.neighbors import NearestNeighbors\n",
        "\n",
        "books_filename = 'BX-Books.csv'\n",
        "ratings_filename = 'BX-Book-Ratings.csv'\n",
        "\n",
        "df_books = pd.read_csv(\n",
        "    books_filename,\n",
        "    encoding=\"ISO-8859-1\",\n",
        "    sep=\";\",\n",
        "    header=0,\n",
        "    names=['isbn', 'title', 'author'],\n",
        "    usecols=['isbn', 'title', 'author'],\n",
        "    dtype={'isbn': 'str', 'title': 'str', 'author': 'str'}\n",
        ")\n",
        "\n",
        "df_ratings = pd.read_csv(\n",
        "    ratings_filename,\n",
        "    encoding=\"ISO-8859-1\",\n",
        "    sep=\";\",\n",
        "    header=0,\n",
        "    names=['user', 'isbn', 'rating'],\n",
        "    usecols=['user', 'isbn', 'rating'],\n",
        "    dtype={'user': 'int32', 'isbn': 'str', 'rating': 'float32'}\n",
        ")\n",
        "\n",
        "user_rating_counts = df_ratings['user'].value_counts()\n",
        "df_ratings = df_ratings[df_ratings['user'].isin(user_rating_counts[user_rating_counts >= 200].index)]\n",
        "\n",
        "book_rating_counts = df_ratings['isbn'].value_counts()\n",
        "df_ratings = df_ratings[df_ratings['isbn'].isin(book_rating_counts[book_rating_counts >= 100].index)]\n",
        "\n",
        "df = pd.merge(df_ratings, df_books, on='isbn')\n",
        "\n",
        "book_pivot = df.pivot_table(index='title', columns='user', values='rating').fillna(0)\n",
        "book_matrix = csr_matrix(book_pivot.values)\n",
        "\n",
        "model_knn = NearestNeighbors(metric='cosine', algorithm='brute')\n",
        "model_knn.fit(book_matrix)\n",
        "\n",
        "def get_recommends(book=\"\"):\n",
        "    if book not in book_pivot.index:\n",
        "        return [book, []]\n",
        "\n",
        "    book_idx = np.where(book_pivot.index == book)[0][0]\n",
        "\n",
        "    distances, indices = model_knn.kneighbors(\n",
        "        book_pivot.iloc[book_idx, :].values.reshape(1, -1),\n",
        "        n_neighbors=6\n",
        "    )\n",
        "\n",
        "    recommended_books = []\n",
        "    for i in range(1, len(indices.flatten())):\n",
        "        recommended_books.append([\n",
        "            book_pivot.index[indices.flatten()[i]],\n",
        "            distances.flatten()[i]\n",
        "        ])\n",
        "\n",
        "    recommended_books = sorted(recommended_books, key=lambda x: x[1], reverse=False)\n",
        "\n",
        "    return [book, recommended_books]\n",
        "\n",
        "print(get_recommends(\"The Queen of the Damned (Vampire Chronicles (Paperback))\"))\n",
        "\n",
        "def test_book_recommendation():\n",
        "    test_pass = True\n",
        "    recommends = get_recommends(\"Where the Heart Is (Oprah's Book Club (Paperback))\")\n",
        "    if recommends[0] != \"Where the Heart Is (Oprah's Book Club (Paperback))\":\n",
        "        test_pass = False\n",
        "    recommended_books = [\"I'll Be Seeing You\", 'The Weight of Water', 'The Surgeon', 'I Know This Much Is True']\n",
        "    recommended_books_dist = [0.8, 0.77, 0.77, 0.77]\n",
        "    for i in range(2):\n",
        "        if recommends[1][i][0] not in recommended_books:\n",
        "            test_pass = False\n",
        "        if abs(recommends[1][i][1] - recommended_books_dist[i]) >= 0.05:\n",
        "            test_pass = False\n",
        "    if test_pass:\n",
        "        print(\"You passed the challenge! 🎉🎉🎉🎉🎉\")\n",
        "    else:\n",
        "        print(\"You haven't passed yet. Keep trying!\")\n",
        "\n",
        "test_book_recommendation()"
      ],
      "metadata": {
        "id": "O5t4pbNEIv8r",
        "outputId": "c9a254d8-24bd-4a45-d88b-642078512e6b",
        "colab": {
          "base_uri": "https://localhost:8080/"
        }
      },
      "execution_count": 25,
      "outputs": [
        {
          "output_type": "stream",
          "name": "stdout",
          "text": [
            "['The Queen of the Damned (Vampire Chronicles (Paperback))', []]\n",
            "You haven't passed yet. Keep trying!\n"
          ]
        }
      ]
    }
  ],
  "metadata": {
    "colab": {
      "name": "fcc_book_recommendation_knn.ipynb",
      "provenance": []
    },
    "kernelspec": {
      "display_name": "Python 3",
      "language": "python",
      "name": "python3"
    },
    "language_info": {
      "codemirror_mode": {
        "name": "ipython",
        "version": 3
      },
      "file_extension": ".py",
      "mimetype": "text/x-python",
      "name": "python",
      "nbconvert_exporter": "python",
      "pygments_lexer": "ipython3",
      "version": "3.6.5"
    }
  },
  "nbformat": 4,
  "nbformat_minor": 0
}